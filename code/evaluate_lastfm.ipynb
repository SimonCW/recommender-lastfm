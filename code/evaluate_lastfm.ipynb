{
 "cells": [
  {
   "cell_type": "markdown",
   "metadata": {},
   "source": [
    "In this module I wrap the ALS estimation and scoring with the scikit-learn base estimator to make it compatible with other scikit-learn modules such as cross-validation and grid-search. Have a look at [jobch's excellent blog post and implementation](https://towardsdatascience.com/recommending-github-repositories-with-google-bigquery-and-the-implicit-library-e6cce666c77), that's where I stole most of the code :)."
   ]
  },
  {
   "cell_type": "code",
   "execution_count": 1,
   "metadata": {},
   "outputs": [
    {
     "name": "stdout",
     "output_type": "stream",
     "text": [
      "env: MKL_NUM_THREADS=1\n"
     ]
    }
   ],
   "source": [
    "import pandas as pd\n",
    "import numpy as np\n",
    "from scipy.sparse import coo_matrix\n",
    "from implicit.als import AlternatingLeastSquares\n",
    "from implicit.utils import nonzeros\n",
    "import os\n",
    "# disable internal multithreading\n",
    "%env MKL_NUM_THREADS=1"
   ]
  },
  {
   "cell_type": "code",
   "execution_count": 2,
   "metadata": {},
   "outputs": [],
   "source": [
    "os.chdir(\"/mnt/c//Users/simon.weiss/Documents/Freaky-Friday/recommender/recommender-lastfm/code\")"
   ]
  },
  {
   "cell_type": "code",
   "execution_count": 3,
   "metadata": {},
   "outputs": [],
   "source": [
    "lastfm = pd.read_table(\"../data/lastfm-dataset-360K/usersha1-artmbid-artname-plays.tsv\", \n",
    "                         usecols=[0, 2, 3], \n",
    "                         names=[\"user\", \"artist\", \"plays\"],\n",
    "                         na_filter = False,\n",
    "                         encoding = \"utf-8\")"
   ]
  },
  {
   "cell_type": "code",
   "execution_count": 4,
   "metadata": {},
   "outputs": [],
   "source": [
    "lastfm[\"dist_user_plays\"] = lastfm.loc[:, [\"user\", \"artist\"]].groupby(\"user\").transform(\"count\")\n",
    "lastfm[\"dist_artist_plays\"] = lastfm.loc[:, [\"user\", \"artist\"]].groupby(\"artist\").transform(\"count\")\n"
   ]
  },
  {
   "cell_type": "code",
   "execution_count": 5,
   "metadata": {},
   "outputs": [],
   "source": [
    "# Subsetting the data to artists with more than 1 distinct play and users with more than 1 distinct play\n",
    "data = lastfm[(lastfm[\"dist_user_plays\"] > 60) & (lastfm[\"dist_artist_plays\"] > 800)].reset_index()"
   ]
  },
  {
   "cell_type": "code",
   "execution_count": 6,
   "metadata": {},
   "outputs": [],
   "source": [
    "data['user'] = data['user'].astype(\"category\")\n",
    "data['artist'] = data['artist'].astype(\"category\")"
   ]
  },
  {
   "cell_type": "code",
   "execution_count": 7,
   "metadata": {},
   "outputs": [],
   "source": [
    "def print_stats(df, user, item):\n",
    "    n_users = np.int64(df.loc[:, user].drop_duplicates().count())\n",
    "    n_artists = np.int64(df.loc[:, item].drop_duplicates().count())\n",
    "    sparsity =  (1 - float(df.shape[0]) / float(n_users*n_artists)) * 100\n",
    "    print(\"Number of Users: {}\".format(n_users))\n",
    "    print(\"Number of Artists: {}\".format(n_artists))\n",
    "    print(\"Sparsity: {:.8} %\".format(str(sparsity)))"
   ]
  },
  {
   "cell_type": "code",
   "execution_count": 8,
   "metadata": {},
   "outputs": [
    {
     "name": "stdout",
     "output_type": "stream",
     "text": [
      "Number of Users: 25524\n",
      "Number of Artists: 3487\n",
      "Sparsity: 98.81094 %\n"
     ]
    }
   ],
   "source": [
    "print_stats(data, \"user\", \"artist\")"
   ]
  },
  {
   "cell_type": "code",
   "execution_count": 9,
   "metadata": {},
   "outputs": [],
   "source": [
    "from sklearn.base import BaseEstimator, TransformerMixin\n",
    "from sklearn.pipeline import Pipeline"
   ]
  },
  {
   "cell_type": "code",
   "execution_count": 10,
   "metadata": {},
   "outputs": [],
   "source": [
    "class UtilityMatrixTransformer(BaseEstimator, TransformerMixin):\n",
    "    def __init__(self, confidence=40):\n",
    "        self.confidence = confidence\n",
    "        \n",
    "    def fit(self, X, y=None):\n",
    "        return self\n",
    "    \n",
    "    def transform(self, X, y=None):\n",
    "        # TODO: abstract column names\n",
    "        return coo_matrix((X['plays'].astype(float), \n",
    "                   (X['artist'].cat.codes.copy(), \n",
    "                    X['user'].cat.codes.copy()))) * self.confidence"
   ]
  },
  {
   "cell_type": "code",
   "execution_count": 11,
   "metadata": {},
   "outputs": [],
   "source": [
    "class ALSEstimator(BaseEstimator, TransformerMixin):\n",
    "    def __init__(self, factors=50,\n",
    "                       regularization=0.01,\n",
    "                       iterations=10,\n",
    "                       filter_seen=True):\n",
    "        self.factors = factors\n",
    "        self.regularization = regularization\n",
    "        self.iterations = iterations\n",
    "        self.filter_seen = filter_seen\n",
    "        \n",
    "    def fit(self, X, y=None):\n",
    "        self.model = AlternatingLeastSquares(factors=self.factors,\n",
    "                                             regularization=self.regularization,\n",
    "                                             iterations=self.iterations,\n",
    "                                             dtype=np.float64,\n",
    "                                             use_native=True)\n",
    "        self.model.fit(X)\n",
    "        if self.filter_seen:\n",
    "            self.fit_X = X\n",
    "        return self\n",
    "        \n",
    "    def predict(self, X, y=None):\n",
    "        predictions = np.dot(self.model.item_factors, self.model.user_factors.T)\n",
    "        if self.filter_seen:\n",
    "            predictions[self.fit_X.nonzero()] = -99\n",
    "        return predictions"
   ]
  },
  {
   "cell_type": "code",
   "execution_count": null,
   "metadata": {},
   "outputs": [],
   "source": [
    "## from https://gist.github.com/qZhang88/415578d5918bf9a5b50fff8f13ad5187\n",
    "\n",
    "def dcg_at_k(r, k, method=1):\n",
    "    \"\"\"Score is discounted cumulative gain (dcg)\n",
    "    Relevance is positive real values.  Can use binary\n",
    "    as the previous methods.\n",
    "    Example from\n",
    "    http://www.stanford.edu/class/cs276/handouts/EvaluationNew-handout-6-per.pdf\n",
    "    >>> r = [3, 2, 3, 0, 0, 1, 2, 2, 3, 0]\n",
    "    >>> dcg_at_k(r, 1, 0)\n",
    "    3.0\n",
    "    >>> dcg_at_k(r, 1)\n",
    "    7.0\n",
    "    >>> dcg_at_k(r, 2, 0)\n",
    "    5.0\n",
    "    >>> dcg_at_k(r, 2)\n",
    "    8.8927892607143733\n",
    "    >>> dcg_at_k(r, 10, 0)\n",
    "    9.6051177391888114\n",
    "    >>> dcg_at_k(r, 11, 0)\n",
    "    9.6051177391888114\n",
    "    Args:\n",
    "        r: Relevance scores (list or numpy) in rank order\n",
    "            (first element is the first item)\n",
    "        k: Number of results to consider\n",
    "        method: If 0 then weights are [1.0, 1.0, 0.6309, 0.5, 0.4307, ...]\n",
    "                If 1 then weights are [1.0, 0.6309, 0.5, 0.4307, ...]\n",
    "    Returns:\n",
    "        Discounted cumulative gain\n",
    "    \"\"\"\n",
    "    r = np.asfarray(r)[:k]\n",
    "    if r.size:\n",
    "        if method == 0:\n",
    "            return r[0] + np.sum(r[1:] / np.log2(np.arange(2, r.size + 1)))\n",
    "        elif method == 1:\n",
    "            return np.sum((2**r - 1) / np.log2(np.arange(2, r.size + 2)))\n",
    "        else:\n",
    "            raise ValueError('method must be 0 or 1.')\n",
    "    return 0.\n",
    "\n",
    "\n",
    "def ndcg_at_k(r, k, method=1):\n",
    "    \"\"\"Score is normalized discounted cumulative gain (ndcg)\n",
    "    Relevance is positive real values.  Can use binary\n",
    "    as the previous methods.\n",
    "    Example from\n",
    "    http://www.stanford.edu/class/cs276/handouts/EvaluationNew-handout-6-per.pdf\n",
    "    >>> r = [3, 2, 3, 0, 0, 1, 2, 2, 3, 0]\n",
    "    >>> ndcg_at_k(r, 1, 0)\n",
    "    1.0\n",
    "    >>> r = [2, 1, 2, 0]\n",
    "    >>> ndcg_at_k(r, 4, 0)\n",
    "    0.9203032077642922\n",
    "    >>> ndcg_at_k(r, 4)\n",
    "    0.9514426589871553\n",
    "    >>> ndcg_at_k([0], 1, 0)\n",
    "    0.0\n",
    "    >>> ndcg_at_k([1], 2, 0)\n",
    "    1.0\n",
    "    Args:\n",
    "        r: Relevance scores (list or numpy) in rank order\n",
    "            (first element is the first item)\n",
    "        k: Number of results to consider\n",
    "        method: If 0 then weights are [1.0, 1.0, 0.6309, 0.5, 0.4307, ...]\n",
    "                If 1 then weights are [1.0, 0.6309, 0.5, 0.4307, ...]\n",
    "    Returns:\n",
    "        Normalized discounted cumulative gain\n",
    "    \"\"\"\n",
    "    dcg_max = dcg_at_k(sorted(r, reverse=True), k, method)\n",
    "    if not dcg_max:\n",
    "        return 0.\n",
    "return dcg_at_k(r, k, method) / dcg_max"
   ]
  },
  {
   "cell_type": "code",
   "execution_count": 15,
   "metadata": {},
   "outputs": [],
   "source": [
    "#https://gist.github.com/mblondel/7337391\n",
    "\n",
    "def dcg_score(y_true, y_score, k=10, gains=\"exponential\"):\n",
    "    \"\"\"Discounted cumulative gain (DCG) at rank k\n",
    "    Parameters\n",
    "    ----------\n",
    "    y_true : array-like, shape = [n_samples]\n",
    "        Ground truth (true relevance labels).\n",
    "    y_score : array-like, shape = [n_samples]\n",
    "        Predicted scores.\n",
    "    k : int\n",
    "        Rank.\n",
    "    gains : str\n",
    "        Whether gains should be \"exponential\" (default) or \"linear\".\n",
    "    Returns\n",
    "    -------\n",
    "    DCG @k : float\n",
    "    \"\"\"\n",
    "    order = np.argsort(y_score)[::-1]\n",
    "    y_true = np.take(y_true, order[:k])\n",
    "\n",
    "    if gains == \"exponential\":\n",
    "        gains = 2 ** y_true - 1\n",
    "    elif gains == \"linear\":\n",
    "        gains = y_true\n",
    "    else:\n",
    "        raise ValueError(\"Invalid gains option.\")\n",
    "\n",
    "    # highest rank is 1 so +2 instead of +1\n",
    "    discounts = np.log2(np.arange(len(y_true)) + 2)\n",
    "    return np.sum(gains / discounts)\n",
    "\n",
    "\n",
    "def ndcg_score(y_true, y_score, k=10, gains=\"exponential\"):\n",
    "    \"\"\"Normalized discounted cumulative gain (NDCG) at rank k\n",
    "    Parameters\n",
    "    ----------\n",
    "    y_true : array-like, shape = [n_samples]\n",
    "        Ground truth (true relevance labels).\n",
    "    y_score : array-like, shape = [n_samples]\n",
    "        Predicted scores.\n",
    "    k : int\n",
    "        Rank.\n",
    "    gains : str\n",
    "        Whether gains should be \"exponential\" (default) or \"linear\".\n",
    "    Returns\n",
    "    -------\n",
    "    NDCG @k : float\n",
    "    \"\"\"\n",
    "    best = dcg_score(y_true, y_true, k, gains)\n",
    "    if best == 0:\n",
    "        return 0    \n",
    "    actual = dcg_score(y_true, y_score, k, gains)\n",
    "    return actual / best"
   ]
  },
  {
   "cell_type": "code",
   "execution_count": 16,
   "metadata": {},
   "outputs": [],
   "source": [
    "def get_col(Y, col):\n",
    "    return np.squeeze(np.asarray(Y[:,col]))\n",
    "\n",
    "def ndcg_score_matrix(Y_true, Y_score, k=10, gains=\"exponential\"):\n",
    "    score = 0.0\n",
    "    n_users = Y_true.shape[1]\n",
    "    for u in range(n_users):\n",
    "        s = ndcg_score(get_col(Y_true, u), get_col(Y_score, u))\n",
    "        score += s\n",
    "    return score / n_users"
   ]
  },
  {
   "cell_type": "code",
   "execution_count": 17,
   "metadata": {},
   "outputs": [],
   "source": [
    "from sklearn.model_selection import PredefinedSplit\n",
    "\n",
    "class LeavePOutByGroup():\n",
    "    def __init__(self, X, p=5, n_splits=2):\n",
    "        self.X = X\n",
    "        self.p = p\n",
    "        self.n_splits = n_splits\n",
    "        test_fold = self.X.groupby(\"user\").cumcount().apply(lambda x: int(x / p) if x < (n_splits * p) else -1)\n",
    "        self.s = PredefinedSplit(test_fold)\n",
    "\n",
    "    def get_n_splits(self, X=None, y=None, groups=None):\n",
    "        return self.n_splits\n",
    "\n",
    "    def split(self, X=None, y=None, groups=None):\n",
    "        return self.s.split()"
   ]
  },
  {
   "cell_type": "code",
   "execution_count": 18,
   "metadata": {},
   "outputs": [],
   "source": [
    "def ndcg_scorer(estimator, X_test):\n",
    "    truth = UtilityMatrixTransformer(confidence=1).fit_transform(X_test).todense()\n",
    "    predictions = estimator.predict(X_test)\n",
    "    return ndcg_score_matrix(truth, predictions, k=10)"
   ]
  },
  {
   "cell_type": "code",
   "execution_count": 19,
   "metadata": {},
   "outputs": [],
   "source": [
    "from sklearn.model_selection import cross_val_score\n",
    "from sklearn.model_selection import GridSearchCV"
   ]
  },
  {
   "cell_type": "code",
   "execution_count": 20,
   "metadata": {},
   "outputs": [],
   "source": [
    "rec_pipeline = Pipeline([\n",
    "        ('matrix', UtilityMatrixTransformer()),\n",
    "        ('als', ALSEstimator()),\n",
    "])\n",
    "\n",
    "param_grid = [\n",
    "    {\n",
    "        'matrix__confidence': [40, 100],\n",
    "        'als__factors': [20, 100],\n",
    "        'als__regularization': [1e-2, 1e-4],\n",
    "    }\n",
    "]"
   ]
  },
  {
   "cell_type": "code",
   "execution_count": 21,
   "metadata": {},
   "outputs": [
    {
     "name": "stdout",
     "output_type": "stream",
     "text": [
      "Fitting 3 folds for each of 18 candidates, totalling 54 fits\n"
     ]
    },
    {
     "name": "stderr",
     "output_type": "stream",
     "text": [
      "/home/simon/miniconda3/envs/implicit/lib/python3.6/site-packages/ipykernel/__main__.py:23: RuntimeWarning: overflow encountered in power\n",
      "/home/simon/miniconda3/envs/implicit/lib/python3.6/site-packages/ipykernel/__main__.py:54: RuntimeWarning: invalid value encountered in double_scalars\n",
      "/home/simon/miniconda3/envs/implicit/lib/python3.6/site-packages/ipykernel/__main__.py:23: RuntimeWarning: overflow encountered in power\n",
      "/home/simon/miniconda3/envs/implicit/lib/python3.6/site-packages/ipykernel/__main__.py:54: RuntimeWarning: invalid value encountered in double_scalars\n",
      "/home/simon/miniconda3/envs/implicit/lib/python3.6/site-packages/ipykernel/__main__.py:23: RuntimeWarning: overflow encountered in power\n",
      "/home/simon/miniconda3/envs/implicit/lib/python3.6/site-packages/ipykernel/__main__.py:54: RuntimeWarning: invalid value encountered in double_scalars\n",
      "/home/simon/miniconda3/envs/implicit/lib/python3.6/site-packages/ipykernel/__main__.py:23: RuntimeWarning: overflow encountered in power\n",
      "/home/simon/miniconda3/envs/implicit/lib/python3.6/site-packages/ipykernel/__main__.py:54: RuntimeWarning: invalid value encountered in double_scalars\n",
      "/home/simon/miniconda3/envs/implicit/lib/python3.6/site-packages/ipykernel/__main__.py:23: RuntimeWarning: overflow encountered in power\n",
      "/home/simon/miniconda3/envs/implicit/lib/python3.6/site-packages/ipykernel/__main__.py:54: RuntimeWarning: invalid value encountered in double_scalars\n",
      "/home/simon/miniconda3/envs/implicit/lib/python3.6/site-packages/ipykernel/__main__.py:23: RuntimeWarning: overflow encountered in power\n",
      "/home/simon/miniconda3/envs/implicit/lib/python3.6/site-packages/ipykernel/__main__.py:54: RuntimeWarning: invalid value encountered in double_scalars\n",
      "/home/simon/miniconda3/envs/implicit/lib/python3.6/site-packages/ipykernel/__main__.py:23: RuntimeWarning: overflow encountered in power\n",
      "/home/simon/miniconda3/envs/implicit/lib/python3.6/site-packages/ipykernel/__main__.py:54: RuntimeWarning: invalid value encountered in double_scalars\n",
      "/home/simon/miniconda3/envs/implicit/lib/python3.6/site-packages/ipykernel/__main__.py:23: RuntimeWarning: overflow encountered in power\n",
      "/home/simon/miniconda3/envs/implicit/lib/python3.6/site-packages/ipykernel/__main__.py:54: RuntimeWarning: invalid value encountered in double_scalars\n",
      "/home/simon/miniconda3/envs/implicit/lib/python3.6/site-packages/ipykernel/__main__.py:23: RuntimeWarning: overflow encountered in power\n",
      "/home/simon/miniconda3/envs/implicit/lib/python3.6/site-packages/ipykernel/__main__.py:54: RuntimeWarning: invalid value encountered in double_scalars\n",
      "/home/simon/miniconda3/envs/implicit/lib/python3.6/site-packages/ipykernel/__main__.py:23: RuntimeWarning: overflow encountered in power\n",
      "/home/simon/miniconda3/envs/implicit/lib/python3.6/site-packages/ipykernel/__main__.py:54: RuntimeWarning: invalid value encountered in double_scalars\n",
      "/home/simon/miniconda3/envs/implicit/lib/python3.6/site-packages/ipykernel/__main__.py:23: RuntimeWarning: overflow encountered in power\n",
      "/home/simon/miniconda3/envs/implicit/lib/python3.6/site-packages/ipykernel/__main__.py:54: RuntimeWarning: invalid value encountered in double_scalars\n",
      "/home/simon/miniconda3/envs/implicit/lib/python3.6/site-packages/ipykernel/__main__.py:23: RuntimeWarning: overflow encountered in power\n",
      "/home/simon/miniconda3/envs/implicit/lib/python3.6/site-packages/ipykernel/__main__.py:54: RuntimeWarning: invalid value encountered in double_scalars\n",
      "/home/simon/miniconda3/envs/implicit/lib/python3.6/site-packages/ipykernel/__main__.py:23: RuntimeWarning: overflow encountered in power\n",
      "/home/simon/miniconda3/envs/implicit/lib/python3.6/site-packages/ipykernel/__main__.py:54: RuntimeWarning: invalid value encountered in double_scalars\n",
      "/home/simon/miniconda3/envs/implicit/lib/python3.6/site-packages/ipykernel/__main__.py:23: RuntimeWarning: overflow encountered in power\n",
      "/home/simon/miniconda3/envs/implicit/lib/python3.6/site-packages/ipykernel/__main__.py:54: RuntimeWarning: invalid value encountered in double_scalars\n",
      "/home/simon/miniconda3/envs/implicit/lib/python3.6/site-packages/ipykernel/__main__.py:23: RuntimeWarning: overflow encountered in power\n",
      "/home/simon/miniconda3/envs/implicit/lib/python3.6/site-packages/ipykernel/__main__.py:54: RuntimeWarning: invalid value encountered in double_scalars\n",
      "/home/simon/miniconda3/envs/implicit/lib/python3.6/site-packages/ipykernel/__main__.py:23: RuntimeWarning: overflow encountered in power\n",
      "/home/simon/miniconda3/envs/implicit/lib/python3.6/site-packages/ipykernel/__main__.py:54: RuntimeWarning: invalid value encountered in double_scalars\n",
      "/home/simon/miniconda3/envs/implicit/lib/python3.6/site-packages/ipykernel/__main__.py:23: RuntimeWarning: overflow encountered in power\n",
      "/home/simon/miniconda3/envs/implicit/lib/python3.6/site-packages/ipykernel/__main__.py:54: RuntimeWarning: invalid value encountered in double_scalars\n",
      "/home/simon/miniconda3/envs/implicit/lib/python3.6/site-packages/ipykernel/__main__.py:23: RuntimeWarning: overflow encountered in power\n",
      "/home/simon/miniconda3/envs/implicit/lib/python3.6/site-packages/ipykernel/__main__.py:54: RuntimeWarning: invalid value encountered in double_scalars\n",
      "/home/simon/miniconda3/envs/implicit/lib/python3.6/site-packages/ipykernel/__main__.py:23: RuntimeWarning: overflow encountered in power\n",
      "/home/simon/miniconda3/envs/implicit/lib/python3.6/site-packages/ipykernel/__main__.py:54: RuntimeWarning: invalid value encountered in double_scalars\n",
      "/home/simon/miniconda3/envs/implicit/lib/python3.6/site-packages/ipykernel/__main__.py:23: RuntimeWarning: overflow encountered in power\n",
      "/home/simon/miniconda3/envs/implicit/lib/python3.6/site-packages/ipykernel/__main__.py:54: RuntimeWarning: invalid value encountered in double_scalars\n",
      "/home/simon/miniconda3/envs/implicit/lib/python3.6/site-packages/ipykernel/__main__.py:23: RuntimeWarning: overflow encountered in power\n",
      "/home/simon/miniconda3/envs/implicit/lib/python3.6/site-packages/ipykernel/__main__.py:54: RuntimeWarning: invalid value encountered in double_scalars\n",
      "/home/simon/miniconda3/envs/implicit/lib/python3.6/site-packages/ipykernel/__main__.py:23: RuntimeWarning: overflow encountered in power\n",
      "/home/simon/miniconda3/envs/implicit/lib/python3.6/site-packages/ipykernel/__main__.py:54: RuntimeWarning: invalid value encountered in double_scalars\n",
      "/home/simon/miniconda3/envs/implicit/lib/python3.6/site-packages/ipykernel/__main__.py:23: RuntimeWarning: overflow encountered in power\n",
      "/home/simon/miniconda3/envs/implicit/lib/python3.6/site-packages/ipykernel/__main__.py:54: RuntimeWarning: invalid value encountered in double_scalars\n",
      "/home/simon/miniconda3/envs/implicit/lib/python3.6/site-packages/ipykernel/__main__.py:23: RuntimeWarning: overflow encountered in power\n",
      "/home/simon/miniconda3/envs/implicit/lib/python3.6/site-packages/ipykernel/__main__.py:54: RuntimeWarning: invalid value encountered in double_scalars\n",
      "/home/simon/miniconda3/envs/implicit/lib/python3.6/site-packages/ipykernel/__main__.py:23: RuntimeWarning: overflow encountered in power\n",
      "/home/simon/miniconda3/envs/implicit/lib/python3.6/site-packages/ipykernel/__main__.py:54: RuntimeWarning: invalid value encountered in double_scalars\n",
      "/home/simon/miniconda3/envs/implicit/lib/python3.6/site-packages/ipykernel/__main__.py:23: RuntimeWarning: overflow encountered in power\n",
      "/home/simon/miniconda3/envs/implicit/lib/python3.6/site-packages/ipykernel/__main__.py:54: RuntimeWarning: invalid value encountered in double_scalars\n",
      "/home/simon/miniconda3/envs/implicit/lib/python3.6/site-packages/ipykernel/__main__.py:23: RuntimeWarning: overflow encountered in power\n",
      "/home/simon/miniconda3/envs/implicit/lib/python3.6/site-packages/ipykernel/__main__.py:54: RuntimeWarning: invalid value encountered in double_scalars\n",
      "/home/simon/miniconda3/envs/implicit/lib/python3.6/site-packages/ipykernel/__main__.py:23: RuntimeWarning: overflow encountered in power\n",
      "/home/simon/miniconda3/envs/implicit/lib/python3.6/site-packages/ipykernel/__main__.py:54: RuntimeWarning: invalid value encountered in double_scalars\n",
      "/home/simon/miniconda3/envs/implicit/lib/python3.6/site-packages/ipykernel/__main__.py:23: RuntimeWarning: overflow encountered in power\n",
      "/home/simon/miniconda3/envs/implicit/lib/python3.6/site-packages/ipykernel/__main__.py:54: RuntimeWarning: invalid value encountered in double_scalars\n"
     ]
    },
    {
     "name": "stderr",
     "output_type": "stream",
     "text": [
      "/home/simon/miniconda3/envs/implicit/lib/python3.6/site-packages/ipykernel/__main__.py:23: RuntimeWarning: overflow encountered in power\n",
      "/home/simon/miniconda3/envs/implicit/lib/python3.6/site-packages/ipykernel/__main__.py:54: RuntimeWarning: invalid value encountered in double_scalars\n",
      "/home/simon/miniconda3/envs/implicit/lib/python3.6/site-packages/ipykernel/__main__.py:23: RuntimeWarning: overflow encountered in power\n",
      "/home/simon/miniconda3/envs/implicit/lib/python3.6/site-packages/ipykernel/__main__.py:54: RuntimeWarning: invalid value encountered in double_scalars\n",
      "/home/simon/miniconda3/envs/implicit/lib/python3.6/site-packages/ipykernel/__main__.py:23: RuntimeWarning: overflow encountered in power\n",
      "/home/simon/miniconda3/envs/implicit/lib/python3.6/site-packages/ipykernel/__main__.py:54: RuntimeWarning: invalid value encountered in double_scalars\n",
      "/home/simon/miniconda3/envs/implicit/lib/python3.6/site-packages/ipykernel/__main__.py:23: RuntimeWarning: overflow encountered in power\n",
      "/home/simon/miniconda3/envs/implicit/lib/python3.6/site-packages/ipykernel/__main__.py:54: RuntimeWarning: invalid value encountered in double_scalars\n",
      "/home/simon/miniconda3/envs/implicit/lib/python3.6/site-packages/ipykernel/__main__.py:23: RuntimeWarning: overflow encountered in power\n",
      "/home/simon/miniconda3/envs/implicit/lib/python3.6/site-packages/ipykernel/__main__.py:54: RuntimeWarning: invalid value encountered in double_scalars\n",
      "/home/simon/miniconda3/envs/implicit/lib/python3.6/site-packages/ipykernel/__main__.py:23: RuntimeWarning: overflow encountered in power\n",
      "/home/simon/miniconda3/envs/implicit/lib/python3.6/site-packages/ipykernel/__main__.py:54: RuntimeWarning: invalid value encountered in double_scalars\n",
      "/home/simon/miniconda3/envs/implicit/lib/python3.6/site-packages/ipykernel/__main__.py:23: RuntimeWarning: overflow encountered in power\n",
      "/home/simon/miniconda3/envs/implicit/lib/python3.6/site-packages/ipykernel/__main__.py:54: RuntimeWarning: invalid value encountered in double_scalars\n",
      "/home/simon/miniconda3/envs/implicit/lib/python3.6/site-packages/ipykernel/__main__.py:23: RuntimeWarning: overflow encountered in power\n",
      "/home/simon/miniconda3/envs/implicit/lib/python3.6/site-packages/ipykernel/__main__.py:54: RuntimeWarning: invalid value encountered in double_scalars\n",
      "/home/simon/miniconda3/envs/implicit/lib/python3.6/site-packages/ipykernel/__main__.py:23: RuntimeWarning: overflow encountered in power\n",
      "/home/simon/miniconda3/envs/implicit/lib/python3.6/site-packages/ipykernel/__main__.py:54: RuntimeWarning: invalid value encountered in double_scalars\n",
      "/home/simon/miniconda3/envs/implicit/lib/python3.6/site-packages/ipykernel/__main__.py:23: RuntimeWarning: overflow encountered in power\n",
      "/home/simon/miniconda3/envs/implicit/lib/python3.6/site-packages/ipykernel/__main__.py:54: RuntimeWarning: invalid value encountered in double_scalars\n",
      "/home/simon/miniconda3/envs/implicit/lib/python3.6/site-packages/ipykernel/__main__.py:23: RuntimeWarning: overflow encountered in power\n",
      "/home/simon/miniconda3/envs/implicit/lib/python3.6/site-packages/ipykernel/__main__.py:54: RuntimeWarning: invalid value encountered in double_scalars\n",
      "/home/simon/miniconda3/envs/implicit/lib/python3.6/site-packages/ipykernel/__main__.py:23: RuntimeWarning: overflow encountered in power\n",
      "/home/simon/miniconda3/envs/implicit/lib/python3.6/site-packages/ipykernel/__main__.py:54: RuntimeWarning: invalid value encountered in double_scalars\n",
      "/home/simon/miniconda3/envs/implicit/lib/python3.6/site-packages/ipykernel/__main__.py:23: RuntimeWarning: overflow encountered in power\n",
      "/home/simon/miniconda3/envs/implicit/lib/python3.6/site-packages/ipykernel/__main__.py:54: RuntimeWarning: invalid value encountered in double_scalars\n",
      "/home/simon/miniconda3/envs/implicit/lib/python3.6/site-packages/ipykernel/__main__.py:23: RuntimeWarning: overflow encountered in power\n",
      "/home/simon/miniconda3/envs/implicit/lib/python3.6/site-packages/ipykernel/__main__.py:54: RuntimeWarning: invalid value encountered in double_scalars\n",
      "/home/simon/miniconda3/envs/implicit/lib/python3.6/site-packages/ipykernel/__main__.py:23: RuntimeWarning: overflow encountered in power\n",
      "/home/simon/miniconda3/envs/implicit/lib/python3.6/site-packages/ipykernel/__main__.py:54: RuntimeWarning: invalid value encountered in double_scalars\n",
      "/home/simon/miniconda3/envs/implicit/lib/python3.6/site-packages/ipykernel/__main__.py:23: RuntimeWarning: overflow encountered in power\n",
      "/home/simon/miniconda3/envs/implicit/lib/python3.6/site-packages/ipykernel/__main__.py:54: RuntimeWarning: invalid value encountered in double_scalars\n",
      "/home/simon/miniconda3/envs/implicit/lib/python3.6/site-packages/ipykernel/__main__.py:23: RuntimeWarning: overflow encountered in power\n",
      "/home/simon/miniconda3/envs/implicit/lib/python3.6/site-packages/ipykernel/__main__.py:54: RuntimeWarning: invalid value encountered in double_scalars\n",
      "/home/simon/miniconda3/envs/implicit/lib/python3.6/site-packages/ipykernel/__main__.py:23: RuntimeWarning: overflow encountered in power\n",
      "/home/simon/miniconda3/envs/implicit/lib/python3.6/site-packages/ipykernel/__main__.py:54: RuntimeWarning: invalid value encountered in double_scalars\n",
      "/home/simon/miniconda3/envs/implicit/lib/python3.6/site-packages/ipykernel/__main__.py:23: RuntimeWarning: overflow encountered in power\n",
      "/home/simon/miniconda3/envs/implicit/lib/python3.6/site-packages/ipykernel/__main__.py:54: RuntimeWarning: invalid value encountered in double_scalars\n",
      "/home/simon/miniconda3/envs/implicit/lib/python3.6/site-packages/ipykernel/__main__.py:23: RuntimeWarning: overflow encountered in power\n",
      "/home/simon/miniconda3/envs/implicit/lib/python3.6/site-packages/ipykernel/__main__.py:54: RuntimeWarning: invalid value encountered in double_scalars\n",
      "/home/simon/miniconda3/envs/implicit/lib/python3.6/site-packages/ipykernel/__main__.py:23: RuntimeWarning: overflow encountered in power\n",
      "/home/simon/miniconda3/envs/implicit/lib/python3.6/site-packages/ipykernel/__main__.py:54: RuntimeWarning: invalid value encountered in double_scalars\n",
      "/home/simon/miniconda3/envs/implicit/lib/python3.6/site-packages/ipykernel/__main__.py:23: RuntimeWarning: overflow encountered in power\n",
      "/home/simon/miniconda3/envs/implicit/lib/python3.6/site-packages/ipykernel/__main__.py:54: RuntimeWarning: invalid value encountered in double_scalars\n",
      "/home/simon/miniconda3/envs/implicit/lib/python3.6/site-packages/ipykernel/__main__.py:23: RuntimeWarning: overflow encountered in power\n",
      "/home/simon/miniconda3/envs/implicit/lib/python3.6/site-packages/ipykernel/__main__.py:54: RuntimeWarning: invalid value encountered in double_scalars\n",
      "/home/simon/miniconda3/envs/implicit/lib/python3.6/site-packages/ipykernel/__main__.py:23: RuntimeWarning: overflow encountered in power\n",
      "/home/simon/miniconda3/envs/implicit/lib/python3.6/site-packages/ipykernel/__main__.py:54: RuntimeWarning: invalid value encountered in double_scalars\n",
      "/home/simon/miniconda3/envs/implicit/lib/python3.6/site-packages/ipykernel/__main__.py:23: RuntimeWarning: overflow encountered in power\n",
      "/home/simon/miniconda3/envs/implicit/lib/python3.6/site-packages/ipykernel/__main__.py:54: RuntimeWarning: invalid value encountered in double_scalars\n",
      "[Parallel(n_jobs=1)]: Done  54 out of  54 | elapsed: 36.9min finished\n"
     ]
    },
    {
     "data": {
      "text/plain": [
       "GridSearchCV(cv=<__main__.LeavePOutByGroup object at 0x7fa92ce5aa90>,\n",
       "       error_score='raise',\n",
       "       estimator=Pipeline(memory=None,\n",
       "     steps=[('matrix', UtilityMatrixTransformer(confidence=40)), ('als', ALSEstimator(factors=50, filter_seen=True, iterations=10, regularization=0.01))]),\n",
       "       fit_params=None, iid=True, n_jobs=1,\n",
       "       param_grid=[{'matrix__confidence': [40, 100], 'als__factors': [20, 50, 100], 'als__regularization': [0.01, 0.001, 0.0001]}],\n",
       "       pre_dispatch='2*n_jobs', refit=True, return_train_score='warn',\n",
       "       scoring=<function ndcg_scorer at 0x7fa91b95f598>, verbose=1)"
      ]
     },
     "execution_count": 21,
     "metadata": {},
     "output_type": "execute_result"
    }
   ],
   "source": [
    "shuffled_train_set = data.reindex(np.random.permutation(data.index)).sort_values(\"user\")\n",
    "grid_search = GridSearchCV(rec_pipeline, param_grid,\n",
    "                           cv=LeavePOutByGroup(shuffled_train_set, p=5, n_splits=3),\n",
    "                           scoring=ndcg_scorer, verbose=1)\n",
    "grid_search.fit(shuffled_train_set)"
   ]
  },
  {
   "cell_type": "code",
   "execution_count": 141,
   "metadata": {},
   "outputs": [
    {
     "data": {
      "text/plain": [
       "{'als__factors': 20, 'als__regularization': 0.01, 'matrix__confidence': 40}"
      ]
     },
     "execution_count": 141,
     "metadata": {},
     "output_type": "execute_result"
    }
   ],
   "source": [
    "grid_search.best_params_"
   ]
  },
  {
   "cell_type": "code",
   "execution_count": 142,
   "metadata": {},
   "outputs": [
    {
     "name": "stdout",
     "output_type": "stream",
     "text": [
      "nan {'als__factors': 20, 'als__regularization': 0.01, 'matrix__confidence': 40}\n",
      "nan {'als__factors': 20, 'als__regularization': 0.01, 'matrix__confidence': 100}\n",
      "nan {'als__factors': 20, 'als__regularization': 0.001, 'matrix__confidence': 40}\n",
      "nan {'als__factors': 20, 'als__regularization': 0.001, 'matrix__confidence': 100}\n",
      "nan {'als__factors': 20, 'als__regularization': 0.0001, 'matrix__confidence': 40}\n",
      "nan {'als__factors': 20, 'als__regularization': 0.0001, 'matrix__confidence': 100}\n",
      "nan {'als__factors': 50, 'als__regularization': 0.01, 'matrix__confidence': 40}\n",
      "nan {'als__factors': 50, 'als__regularization': 0.01, 'matrix__confidence': 100}\n",
      "nan {'als__factors': 50, 'als__regularization': 0.001, 'matrix__confidence': 40}\n",
      "nan {'als__factors': 50, 'als__regularization': 0.001, 'matrix__confidence': 100}\n",
      "nan {'als__factors': 50, 'als__regularization': 0.0001, 'matrix__confidence': 40}\n",
      "nan {'als__factors': 50, 'als__regularization': 0.0001, 'matrix__confidence': 100}\n",
      "nan {'als__factors': 100, 'als__regularization': 0.01, 'matrix__confidence': 40}\n",
      "nan {'als__factors': 100, 'als__regularization': 0.01, 'matrix__confidence': 100}\n",
      "nan {'als__factors': 100, 'als__regularization': 0.001, 'matrix__confidence': 40}\n",
      "nan {'als__factors': 100, 'als__regularization': 0.001, 'matrix__confidence': 100}\n",
      "nan {'als__factors': 100, 'als__regularization': 0.0001, 'matrix__confidence': 40}\n",
      "nan {'als__factors': 100, 'als__regularization': 0.0001, 'matrix__confidence': 100}\n"
     ]
    }
   ],
   "source": [
    "cvres = grid_search.cv_results_\n",
    "for mean_score, params in zip(cvres[\"mean_test_score\"], cvres[\"params\"]):\n",
    "    print(mean_score, params)"
   ]
  },
  {
   "cell_type": "code",
   "execution_count": null,
   "metadata": {},
   "outputs": [],
   "source": []
  }
 ],
 "metadata": {
  "kernelspec": {
   "display_name": "Python [conda env:implicit]",
   "language": "python",
   "name": "conda-env-implicit-py"
  },
  "language_info": {
   "codemirror_mode": {
    "name": "ipython",
    "version": 3
   },
   "file_extension": ".py",
   "mimetype": "text/x-python",
   "name": "python",
   "nbconvert_exporter": "python",
   "pygments_lexer": "ipython3",
   "version": "3.6.5"
  }
 },
 "nbformat": 4,
 "nbformat_minor": 2
}
