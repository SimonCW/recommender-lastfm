{
 "cells": [
  {
   "cell_type": "code",
   "execution_count": 1,
   "metadata": {},
   "outputs": [
    {
     "ename": "ModuleNotFoundError",
     "evalue": "No module named 'pandas'",
     "output_type": "error",
     "traceback": [
      "\u001b[0;31m---------------------------------------------------------------------------\u001b[0m",
      "\u001b[0;31mModuleNotFoundError\u001b[0m                       Traceback (most recent call last)",
      "\u001b[0;32m<ipython-input-1-96697e613599>\u001b[0m in \u001b[0;36m<module>\u001b[0;34m()\u001b[0m\n\u001b[0;32m----> 1\u001b[0;31m \u001b[0;32mimport\u001b[0m \u001b[0mpandas\u001b[0m \u001b[0;32mas\u001b[0m \u001b[0mpd\u001b[0m\u001b[0;34m\u001b[0m\u001b[0m\n\u001b[0m\u001b[1;32m      2\u001b[0m \u001b[0;32mimport\u001b[0m \u001b[0mnumpy\u001b[0m \u001b[0;32mas\u001b[0m \u001b[0mnp\u001b[0m\u001b[0;34m\u001b[0m\u001b[0m\n\u001b[1;32m      3\u001b[0m \u001b[0;32mfrom\u001b[0m \u001b[0mscipy\u001b[0m\u001b[0;34m.\u001b[0m\u001b[0msparse\u001b[0m \u001b[0;32mimport\u001b[0m \u001b[0mcoo_matrix\u001b[0m\u001b[0;34m\u001b[0m\u001b[0m\n\u001b[1;32m      4\u001b[0m \u001b[0;32mfrom\u001b[0m \u001b[0mimplicit\u001b[0m\u001b[0;34m.\u001b[0m\u001b[0mals\u001b[0m \u001b[0;32mimport\u001b[0m \u001b[0mAlternatingLeastSquares\u001b[0m\u001b[0;34m\u001b[0m\u001b[0m\n\u001b[1;32m      5\u001b[0m \u001b[0;32mimport\u001b[0m \u001b[0mos\u001b[0m\u001b[0;34m\u001b[0m\u001b[0m\n",
      "\u001b[0;31mModuleNotFoundError\u001b[0m: No module named 'pandas'"
     ]
    }
   ],
   "source": [
    "import pandas as pd\n",
    "import numpy as np\n",
    "from scipy.sparse import coo_matrix\n",
    "from implicit.als import AlternatingLeastSquares\n",
    "import os"
   ]
  },
  {
   "cell_type": "code",
   "execution_count": 2,
   "metadata": {},
   "outputs": [],
   "source": [
    "os.chdir(\"C:\\\\Users\\\\simon.weiss\\\\Documents\\\\Freaky-Friday\\\\recommender\\\\recommender-lastfm\\\\code\")"
   ]
  },
  {
   "cell_type": "code",
   "execution_count": 3,
   "metadata": {},
   "outputs": [],
   "source": [
    "lastfm = pd.read_table(\"../data/lastfm-dataset-360K/usersha1-artmbid-artname-plays.tsv\", \n",
    "                         usecols=[0, 2, 3], \n",
    "                         names=[\"user\", \"artist\", \"plays\"],\n",
    "                         na_filter = False,\n",
    "                         encoding = \"utf-8\")"
   ]
  },
  {
   "cell_type": "code",
   "execution_count": 4,
   "metadata": {},
   "outputs": [
    {
     "data": {
      "text/html": [
       "<div>\n",
       "<style scoped>\n",
       "    .dataframe tbody tr th:only-of-type {\n",
       "        vertical-align: middle;\n",
       "    }\n",
       "\n",
       "    .dataframe tbody tr th {\n",
       "        vertical-align: top;\n",
       "    }\n",
       "\n",
       "    .dataframe thead th {\n",
       "        text-align: right;\n",
       "    }\n",
       "</style>\n",
       "<table border=\"1\" class=\"dataframe\">\n",
       "  <thead>\n",
       "    <tr style=\"text-align: right;\">\n",
       "      <th></th>\n",
       "      <th>user</th>\n",
       "      <th>artist</th>\n",
       "      <th>plays</th>\n",
       "    </tr>\n",
       "  </thead>\n",
       "  <tbody>\n",
       "    <tr>\n",
       "      <th>0</th>\n",
       "      <td>00000c289a1829a808ac09c00daf10bc3c4e223b</td>\n",
       "      <td>betty blowtorch</td>\n",
       "      <td>2137</td>\n",
       "    </tr>\n",
       "    <tr>\n",
       "      <th>1</th>\n",
       "      <td>00000c289a1829a808ac09c00daf10bc3c4e223b</td>\n",
       "      <td>die Ärzte</td>\n",
       "      <td>1099</td>\n",
       "    </tr>\n",
       "    <tr>\n",
       "      <th>2</th>\n",
       "      <td>00000c289a1829a808ac09c00daf10bc3c4e223b</td>\n",
       "      <td>melissa etheridge</td>\n",
       "      <td>897</td>\n",
       "    </tr>\n",
       "    <tr>\n",
       "      <th>3</th>\n",
       "      <td>00000c289a1829a808ac09c00daf10bc3c4e223b</td>\n",
       "      <td>elvenking</td>\n",
       "      <td>717</td>\n",
       "    </tr>\n",
       "    <tr>\n",
       "      <th>4</th>\n",
       "      <td>00000c289a1829a808ac09c00daf10bc3c4e223b</td>\n",
       "      <td>juliette &amp; the licks</td>\n",
       "      <td>706</td>\n",
       "    </tr>\n",
       "  </tbody>\n",
       "</table>\n",
       "</div>"
      ],
      "text/plain": [
       "                                       user                artist  plays\n",
       "0  00000c289a1829a808ac09c00daf10bc3c4e223b       betty blowtorch   2137\n",
       "1  00000c289a1829a808ac09c00daf10bc3c4e223b             die Ärzte   1099\n",
       "2  00000c289a1829a808ac09c00daf10bc3c4e223b     melissa etheridge    897\n",
       "3  00000c289a1829a808ac09c00daf10bc3c4e223b             elvenking    717\n",
       "4  00000c289a1829a808ac09c00daf10bc3c4e223b  juliette & the licks    706"
      ]
     },
     "execution_count": 4,
     "metadata": {},
     "output_type": "execute_result"
    }
   ],
   "source": [
    "lastfm.head()"
   ]
  },
  {
   "cell_type": "markdown",
   "metadata": {},
   "source": [
    "I print basic stats relevant for recommender systems."
   ]
  },
  {
   "cell_type": "code",
   "execution_count": 5,
   "metadata": {},
   "outputs": [],
   "source": [
    "def print_stats(df, user, item):\n",
    "    n_users = np.int64(df.loc[:, user].drop_duplicates().count())\n",
    "    n_artists = np.int64(df.loc[:, item].drop_duplicates().count())\n",
    "    sparsity =  (1 - float(df.shape[0]) / float(n_users*n_artists)) * 100\n",
    "    print(\"Number of Users: {}\".format(n_users))\n",
    "    print(\"Number of Artists: {}\".format(n_artists))\n",
    "    print(\"Sparsity: {:.8} %\".format(str(sparsity)))"
   ]
  },
  {
   "cell_type": "code",
   "execution_count": 6,
   "metadata": {},
   "outputs": [
    {
     "name": "stdout",
     "output_type": "stream",
     "text": [
      "Number of Users: 358868\n",
      "Number of Artists: 292365\n",
      "Sparsity: 99.98328 %\n"
     ]
    }
   ],
   "source": [
    "print_stats(lastfm, \"user\", \"artist\")"
   ]
  },
  {
   "cell_type": "markdown",
   "metadata": {},
   "source": [
    "The sparsity is above 99%, this means that more than 99% of values are missing in the user-artist matrix. Matrix Factorization algorithms excel in these sparse data contexts, however, above 99% sparsity might not be enough \"signal\" to produce valuable recommendations. I will deal with this problem next by removing some users and artists from the dataset."
   ]
  },
  {
   "cell_type": "markdown",
   "metadata": {},
   "source": [
    "Looking at artists that were only played by one user but many times can give insights about hardcore fans of unknonw bands. For example, the artist *Mr. Silakka* has been only playe by one user but that user played *Mr. Silakka* 32366 times!"
   ]
  },
  {
   "cell_type": "code",
   "execution_count": 7,
   "metadata": {},
   "outputs": [],
   "source": [
    "lastfm[\"dist_user_plays\"] = lastfm.loc[:, [\"user\", \"artist\"]].groupby(\"user\").transform(\"count\")\n",
    "lastfm[\"dist_artist_plays\"] = lastfm.loc[:, [\"user\", \"artist\"]].groupby(\"artist\").transform(\"count\")"
   ]
  },
  {
   "cell_type": "code",
   "execution_count": 8,
   "metadata": {},
   "outputs": [
    {
     "data": {
      "text/html": [
       "<div>\n",
       "<style scoped>\n",
       "    .dataframe tbody tr th:only-of-type {\n",
       "        vertical-align: middle;\n",
       "    }\n",
       "\n",
       "    .dataframe tbody tr th {\n",
       "        vertical-align: top;\n",
       "    }\n",
       "\n",
       "    .dataframe thead th {\n",
       "        text-align: right;\n",
       "    }\n",
       "</style>\n",
       "<table border=\"1\" class=\"dataframe\">\n",
       "  <thead>\n",
       "    <tr style=\"text-align: right;\">\n",
       "      <th></th>\n",
       "      <th>user</th>\n",
       "      <th>artist</th>\n",
       "      <th>plays</th>\n",
       "      <th>dist_user_plays</th>\n",
       "      <th>dist_artist_plays</th>\n",
       "    </tr>\n",
       "  </thead>\n",
       "  <tbody>\n",
       "    <tr>\n",
       "      <th>13497754</th>\n",
       "      <td>c5403d0be4692edf6f57f871c078c288955e2a3b</td>\n",
       "      <td>Макс иванов</td>\n",
       "      <td>36285</td>\n",
       "      <td>43</td>\n",
       "      <td>1</td>\n",
       "    </tr>\n",
       "    <tr>\n",
       "      <th>6525045</th>\n",
       "      <td>5f662478181f3f7bc04266885f8136f28be4fc3f</td>\n",
       "      <td>mr. silakka</td>\n",
       "      <td>32366</td>\n",
       "      <td>50</td>\n",
       "      <td>1</td>\n",
       "    </tr>\n",
       "    <tr>\n",
       "      <th>2911499</th>\n",
       "      <td>2a8f828c08d6737cd9bcdd762348060c07d557f8</td>\n",
       "      <td>coca cola christmas</td>\n",
       "      <td>27604</td>\n",
       "      <td>50</td>\n",
       "      <td>1</td>\n",
       "    </tr>\n",
       "    <tr>\n",
       "      <th>9714637</th>\n",
       "      <td>8ddf34c21d1247e24966e7188bbac69261b34fd7</td>\n",
       "      <td>2brother</td>\n",
       "      <td>23675</td>\n",
       "      <td>49</td>\n",
       "      <td>1</td>\n",
       "    </tr>\n",
       "    <tr>\n",
       "      <th>160002</th>\n",
       "      <td>024dafcb227af455f06ccbe504bb7dc366264d2c</td>\n",
       "      <td>big lonz</td>\n",
       "      <td>22202</td>\n",
       "      <td>42</td>\n",
       "      <td>1</td>\n",
       "    </tr>\n",
       "  </tbody>\n",
       "</table>\n",
       "</div>"
      ],
      "text/plain": [
       "                                              user               artist  \\\n",
       "13497754  c5403d0be4692edf6f57f871c078c288955e2a3b          Макс иванов   \n",
       "6525045   5f662478181f3f7bc04266885f8136f28be4fc3f          mr. silakka   \n",
       "2911499   2a8f828c08d6737cd9bcdd762348060c07d557f8  coca cola christmas   \n",
       "9714637   8ddf34c21d1247e24966e7188bbac69261b34fd7             2brother   \n",
       "160002    024dafcb227af455f06ccbe504bb7dc366264d2c             big lonz   \n",
       "\n",
       "          plays  dist_user_plays  dist_artist_plays  \n",
       "13497754  36285               43                  1  \n",
       "6525045   32366               50                  1  \n",
       "2911499   27604               50                  1  \n",
       "9714637   23675               49                  1  \n",
       "160002    22202               42                  1  "
      ]
     },
     "execution_count": 8,
     "metadata": {},
     "output_type": "execute_result"
    }
   ],
   "source": [
    "lastfm.sort_values([\"dist_artist_plays\", \"plays\"], ascending=[True, False]).head()"
   ]
  },
  {
   "cell_type": "markdown",
   "metadata": {},
   "source": [
    "However, from an recommendation perspective there is not much to learn from these users and artists. Hence, I remove any user that listend only to one artist. Next, I remove artists that were only played by one distinct user (although the user might have played that artist multiple times). \n",
    "\n",
    "Naturally, we won't be able to get recommendations for the users we remove nor will the removed artists be recommended. In a production application I would treat these users and artists like new users and artists. For these one has to define a cold-start strategy like recommending *most popular on average*. "
   ]
  },
  {
   "cell_type": "code",
   "execution_count": 9,
   "metadata": {},
   "outputs": [],
   "source": [
    "# Subsetting the data to artists with more than 1 distinct play and users with more than 1 distinct play\n",
    "data = lastfm[(lastfm[\"dist_user_plays\"] > 1) & (lastfm[\"dist_artist_plays\"] > 1)].reset_index()"
   ]
  },
  {
   "cell_type": "code",
   "execution_count": 10,
   "metadata": {},
   "outputs": [
    {
     "name": "stdout",
     "output_type": "stream",
     "text": [
      "Number of Users: 358833\n",
      "Number of Artists: 159602\n",
      "Sparsity: 98.78800 %\n"
     ]
    },
    {
     "name": "stderr",
     "output_type": "stream",
     "text": [
      "C:\\Users\\simon.weiss\\AppData\\Local\\Continuum\\miniconda3\\envs\\py36_base\\lib\\site-packages\\ipykernel_launcher.py:4: RuntimeWarning: overflow encountered in long_scalars\n",
      "  after removing the cwd from sys.path.\n"
     ]
    }
   ],
   "source": [
    "print_stats(data, \"user\", \"artist\")"
   ]
  },
  {
   "cell_type": "markdown",
   "metadata": {},
   "source": [
    "Sparsity went down to 98.8%, perfect! This also reduces computationally complexity significantly. We now need to produce only `358833 users * 159602 artists = 57,270,464,466` recommendations instead of `104,920,442,820`. It nearly halved the number of recommendations to calculate."
   ]
  },
  {
   "cell_type": "code",
   "execution_count": 11,
   "metadata": {},
   "outputs": [],
   "source": [
    "data['user'] = data['user'].astype(\"category\")\n",
    "data['artist'] = data['artist'].astype(\"category\")\n",
    "\n",
    "artist_user_mat = coo_matrix((data['plays'].astype(float), \n",
    "                   (data['artist'].cat.codes, \n",
    "                    data['user'].cat.codes)))"
   ]
  },
  {
   "cell_type": "markdown",
   "metadata": {},
   "source": [
    "Dictionaries to translate between names and ids an vice-versa"
   ]
  },
  {
   "cell_type": "code",
   "execution_count": 12,
   "metadata": {},
   "outputs": [],
   "source": [
    "ids_to_artists = dict(enumerate(data[\"artist\"].cat.categories))\n",
    "artists_to_ids = {r: i for i, r in ids_to_artists.items()}\n",
    "\n",
    "ids_to_users = dict(enumerate(data[\"user\"].cat.categories))\n",
    "users_to_ids = {r: i for i, r in ids_to_users.items()}"
   ]
  },
  {
   "cell_type": "code",
   "execution_count": 13,
   "metadata": {},
   "outputs": [
    {
     "name": "stdout",
     "output_type": "stream",
     "text": [
      "env: MKL_NUM_THREADS=1\n"
     ]
    }
   ],
   "source": [
    "# disable internal multithreading\n",
    "%env MKL_NUM_THREADS=1 "
   ]
  },
  {
   "cell_type": "code",
   "execution_count": 14,
   "metadata": {},
   "outputs": [],
   "source": [
    "#TODO: Confidence !!"
   ]
  },
  {
   "cell_type": "code",
   "execution_count": 15,
   "metadata": {},
   "outputs": [],
   "source": [
    "model = AlternatingLeastSquares(factors=40, dtype=np.float64, iterations=15)\n",
    "model.fit(artist_user_mat)"
   ]
  },
  {
   "cell_type": "code",
   "execution_count": 16,
   "metadata": {},
   "outputs": [
    {
     "name": "stdout",
     "output_type": "stream",
     "text": [
      "env: MKL_NUM_THREADS=4\n"
     ]
    }
   ],
   "source": [
    "# enable internal multithreading\n",
    "%env MKL_NUM_THREADS=4 "
   ]
  },
  {
   "cell_type": "markdown",
   "metadata": {},
   "source": [
    "As a sanity check one can look at the similarity between items. Looks good to me."
   ]
  },
  {
   "cell_type": "code",
   "execution_count": 17,
   "metadata": {},
   "outputs": [
    {
     "data": {
      "text/plain": [
       "[('metallica', 1.0000000000000002),\n",
       " ('system of a down', 0.9848837074352589),\n",
       " ('rammstein', 0.9745327928234145),\n",
       " ('ac/dc', 0.9684443468017192),\n",
       " ('marilyn manson', 0.9639789155981889),\n",
       " ('the offspring', 0.9629375831115958),\n",
       " ('rage against the machine', 0.9623200350814303),\n",
       " ('nirvana', 0.9553169242264237),\n",
       " ('green day', 0.9499000909667074),\n",
       " ('tool', 0.9461640766784706)]"
      ]
     },
     "execution_count": 17,
     "metadata": {},
     "output_type": "execute_result"
    }
   ],
   "source": [
    "[(ids_to_artists[a], s) for a, s in model.similar_items(artists_to_ids[\"metallica\"], 10)]"
   ]
  },
  {
   "cell_type": "markdown",
   "metadata": {},
   "source": [
    "Next, I pick a random user with enough plays to calculate recommendations and look at the artists that user listens to most"
   ]
  },
  {
   "cell_type": "code",
   "execution_count": 18,
   "metadata": {},
   "outputs": [
    {
     "data": {
      "text/html": [
       "<div>\n",
       "<style scoped>\n",
       "    .dataframe tbody tr th:only-of-type {\n",
       "        vertical-align: middle;\n",
       "    }\n",
       "\n",
       "    .dataframe tbody tr th {\n",
       "        vertical-align: top;\n",
       "    }\n",
       "\n",
       "    .dataframe thead th {\n",
       "        text-align: right;\n",
       "    }\n",
       "</style>\n",
       "<table border=\"1\" class=\"dataframe\">\n",
       "  <thead>\n",
       "    <tr style=\"text-align: right;\">\n",
       "      <th></th>\n",
       "      <th>index</th>\n",
       "      <th>user</th>\n",
       "      <th>artist</th>\n",
       "      <th>plays</th>\n",
       "      <th>dist_user_plays</th>\n",
       "      <th>dist_artist_plays</th>\n",
       "    </tr>\n",
       "  </thead>\n",
       "  <tbody>\n",
       "    <tr>\n",
       "      <th>14607267</th>\n",
       "      <td>14718530</td>\n",
       "      <td>d6eb36bb5fe4081f06b4fcf5fd608fafd77ad687</td>\n",
       "      <td>bob dylan</td>\n",
       "      <td>3047</td>\n",
       "      <td>112</td>\n",
       "      <td>31799</td>\n",
       "    </tr>\n",
       "    <tr>\n",
       "      <th>14607268</th>\n",
       "      <td>14718531</td>\n",
       "      <td>d6eb36bb5fe4081f06b4fcf5fd608fafd77ad687</td>\n",
       "      <td>bruce springsteen</td>\n",
       "      <td>1370</td>\n",
       "      <td>112</td>\n",
       "      <td>13648</td>\n",
       "    </tr>\n",
       "    <tr>\n",
       "      <th>14607269</th>\n",
       "      <td>14718532</td>\n",
       "      <td>d6eb36bb5fe4081f06b4fcf5fd608fafd77ad687</td>\n",
       "      <td>the clash</td>\n",
       "      <td>1028</td>\n",
       "      <td>112</td>\n",
       "      <td>19423</td>\n",
       "    </tr>\n",
       "    <tr>\n",
       "      <th>14607270</th>\n",
       "      <td>14718533</td>\n",
       "      <td>d6eb36bb5fe4081f06b4fcf5fd608fafd77ad687</td>\n",
       "      <td>tom waits</td>\n",
       "      <td>803</td>\n",
       "      <td>112</td>\n",
       "      <td>19976</td>\n",
       "    </tr>\n",
       "    <tr>\n",
       "      <th>14607271</th>\n",
       "      <td>14718534</td>\n",
       "      <td>d6eb36bb5fe4081f06b4fcf5fd608fafd77ad687</td>\n",
       "      <td>håkan hellström</td>\n",
       "      <td>699</td>\n",
       "      <td>112</td>\n",
       "      <td>2751</td>\n",
       "    </tr>\n",
       "  </tbody>\n",
       "</table>\n",
       "</div>"
      ],
      "text/plain": [
       "             index                                      user  \\\n",
       "14607267  14718530  d6eb36bb5fe4081f06b4fcf5fd608fafd77ad687   \n",
       "14607268  14718531  d6eb36bb5fe4081f06b4fcf5fd608fafd77ad687   \n",
       "14607269  14718532  d6eb36bb5fe4081f06b4fcf5fd608fafd77ad687   \n",
       "14607270  14718533  d6eb36bb5fe4081f06b4fcf5fd608fafd77ad687   \n",
       "14607271  14718534  d6eb36bb5fe4081f06b4fcf5fd608fafd77ad687   \n",
       "\n",
       "                     artist  plays  dist_user_plays  dist_artist_plays  \n",
       "14607267          bob dylan   3047              112              31799  \n",
       "14607268  bruce springsteen   1370              112              13648  \n",
       "14607269          the clash   1028              112              19423  \n",
       "14607270          tom waits    803              112              19976  \n",
       "14607271    håkan hellström    699              112               2751  "
      ]
     },
     "execution_count": 18,
     "metadata": {},
     "output_type": "execute_result"
    }
   ],
   "source": [
    "specific_user_id = users_to_ids[\"d6eb36bb5fe4081f06b4fcf5fd608fafd77ad687\"]\n",
    "data[data[\"user\"]==\"d6eb36bb5fe4081f06b4fcf5fd608fafd77ad687\"].sort_values([\"plays\"], ascending=False).head()"
   ]
  },
  {
   "cell_type": "markdown",
   "metadata": {},
   "source": [
    "Now we recommend artists to that specific user. The recommendations look good to me."
   ]
  },
  {
   "cell_type": "code",
   "execution_count": 19,
   "metadata": {},
   "outputs": [
    {
     "data": {
      "text/plain": [
       "[('glasvegas', 1.1588939004469023),\n",
       " ('buddy holly', 1.1463831720994624),\n",
       " ('josh rouse', 1.1204749747771507),\n",
       " ('roy orbison', 1.1121315549741937),\n",
       " ('the soundtrack of our lives', 1.0903597384375263),\n",
       " ('lou reed', 1.0777825705680872),\n",
       " ('dusty springfield', 1.0626501871007736),\n",
       " ('van morrison', 1.0598874312014752),\n",
       " ('billy bragg', 1.0481429305472343),\n",
       " ('dolly parton', 1.042571271234622),\n",
       " ('the velvet underground', 1.0359946433881955),\n",
       " ('adam green', 1.0196747932334036),\n",
       " ('the pogues', 1.0183723786909082),\n",
       " ('ron sexsmith', 1.0177700468442497),\n",
       " ('antony and the johnsons', 1.0113270299816617)]"
      ]
     },
     "execution_count": 19,
     "metadata": {},
     "output_type": "execute_result"
    }
   ],
   "source": [
    "user_artist_mat = artist_user_mat.T.tocsr()\n",
    "user_recommendations = model.recommend(specific_user_id, user_artist_mat, N=15)\n",
    "[(ids_to_artists[a], s) for a, s in user_recommendations]"
   ]
  },
  {
   "cell_type": "markdown",
   "metadata": {},
   "source": [
    "As a next step we can calcualte which user-item interaction, i.e. the user listening to an artist, had the biggest influence on an specific recommendation. This is useful for explaining the recommendations to users, e.g. \"Because you lsitend to *Metallica* here are some other Metal Bands...\". These explanations were found to increase user experience and acceptance."
   ]
  },
  {
   "cell_type": "code",
   "execution_count": 20,
   "metadata": {},
   "outputs": [
    {
     "data": {
      "text/plain": [
       "[('bruce springsteen', 0.2242125635860653),\n",
       " ('the clash', 0.14642937494579433),\n",
       " ('drive-by truckers', 0.11852761308854332),\n",
       " ('jonathan richman', 0.09948623819309899),\n",
       " ('the hold steady', 0.08622294041591065),\n",
       " ('lloyd cole and the commotions', 0.08326799576045336),\n",
       " ('madness', 0.07016338112690264),\n",
       " ('moneybrother', 0.06481854344063194),\n",
       " ('townes van zandt', 0.056589804787619845),\n",
       " ('elvis costello & the attractions', 0.05018096418104496)]"
      ]
     },
     "execution_count": 20,
     "metadata": {},
     "output_type": "execute_result"
    }
   ],
   "source": [
    "_, explanations, _ = model.explain(userid=specific_user_id, user_items=user_artist_mat, itemid=artists_to_ids[\"billy bragg\"])\n",
    "[(ids_to_artists[a], s) for a, s in explanations]"
   ]
  },
  {
   "cell_type": "markdown",
   "metadata": {},
   "source": [
    "The biggest influence on the recommendation *Billy Bragg*  has *The Clash*. Personally, I don't know *Billy Bragg* but Wikipedia says that \"Bragg was particularly influenced by the Clash, whom he'd seen play live in London in May 1977 on their White Riot Tour,...\""
   ]
  },
  {
   "cell_type": "markdown",
   "metadata": {},
   "source": [
    "To get all recommendations one just multiplies the user factor matrix with the item factor matrix. This is a pretty big operation since the resulting matrix is the completely filled of size number_of_items * number_of_users."
   ]
  },
  {
   "cell_type": "code",
   "execution_count": 22,
   "metadata": {},
   "outputs": [
    {
     "ename": "MemoryError",
     "evalue": "",
     "output_type": "error",
     "traceback": [
      "\u001b[1;31m---------------------------------------------------------------------------\u001b[0m",
      "\u001b[1;31mMemoryError\u001b[0m                               Traceback (most recent call last)",
      "\u001b[1;32m<ipython-input-22-eb96f1a4fe7f>\u001b[0m in \u001b[0;36m<module>\u001b[1;34m()\u001b[0m\n\u001b[1;32m----> 1\u001b[1;33m \u001b[0mall_recommendations\u001b[0m \u001b[1;33m=\u001b[0m \u001b[0mnp\u001b[0m\u001b[1;33m.\u001b[0m\u001b[0mdot\u001b[0m\u001b[1;33m(\u001b[0m\u001b[0mmodel\u001b[0m\u001b[1;33m.\u001b[0m\u001b[0mitem_factors\u001b[0m\u001b[1;33m,\u001b[0m \u001b[0mmodel\u001b[0m\u001b[1;33m.\u001b[0m\u001b[0muser_factors\u001b[0m\u001b[1;33m.\u001b[0m\u001b[0mT\u001b[0m\u001b[1;33m)\u001b[0m\u001b[1;33m\u001b[0m\u001b[0m\n\u001b[0m\u001b[0;32m      2\u001b[0m \u001b[1;33m\u001b[0m\u001b[0m\n\u001b[0;32m      3\u001b[0m \u001b[1;31m# dgemm implementation\u001b[0m\u001b[1;33m\u001b[0m\u001b[1;33m\u001b[0m\u001b[0m\n\u001b[0;32m      4\u001b[0m \u001b[1;31m#from scipy.linalg import blas as blas\u001b[0m\u001b[1;33m\u001b[0m\u001b[1;33m\u001b[0m\u001b[0m\n\u001b[0;32m      5\u001b[0m \u001b[1;31m#X = blas.dgemm(alpha=1., a=np.asfortranarray(model.item_factors), b=np.asfortranarray(model.user_factors), trans_b=True)\u001b[0m\u001b[1;33m\u001b[0m\u001b[1;33m\u001b[0m\u001b[0m\n",
      "\u001b[1;31mMemoryError\u001b[0m: "
     ]
    }
   ],
   "source": [
    "all_recommendations = np.dot(model.item_factors, model.user_factors.T)\n",
    "\n",
    "# dgemm implementation\n",
    "#from scipy.linalg import blas as blas\n",
    "#X = blas.dgemm(alpha=1., a=np.asfortranarray(model.item_factors), b=np.asfortranarray(model.user_factors), trans_b=True)"
   ]
  },
  {
   "cell_type": "code",
   "execution_count": 69,
   "metadata": {},
   "outputs": [
    {
     "name": "stdout",
     "output_type": "stream",
     "text": [
      "114826560 bytes\n"
     ]
    }
   ],
   "source": [
    "print(\"{} bytes\".format(model.user_factors.size * model.user_factors.itemsize))"
   ]
  },
  {
   "cell_type": "markdown",
   "metadata": {},
   "source": [
    "The following also throws an memory error because the zeros matrix is already too big."
   ]
  },
  {
   "cell_type": "code",
   "execution_count": 65,
   "metadata": {},
   "outputs": [
    {
     "ename": "MemoryError",
     "evalue": "",
     "output_type": "error",
     "traceback": [
      "\u001b[1;31m---------------------------------------------------------------------------\u001b[0m",
      "\u001b[1;31mMemoryError\u001b[0m                               Traceback (most recent call last)",
      "\u001b[1;32m<ipython-input-65-444154cd74af>\u001b[0m in \u001b[0;36m<module>\u001b[1;34m()\u001b[0m\n\u001b[0;32m      2\u001b[0m \u001b[1;33m\u001b[0m\u001b[0m\n\u001b[0;32m      3\u001b[0m \u001b[0mitem_factors\u001b[0m\u001b[1;33m,\u001b[0m \u001b[0muser_factors\u001b[0m \u001b[1;33m=\u001b[0m \u001b[0mmodel\u001b[0m\u001b[1;33m.\u001b[0m\u001b[0mitem_factors\u001b[0m\u001b[1;33m,\u001b[0m \u001b[0mmodel\u001b[0m\u001b[1;33m.\u001b[0m\u001b[0muser_factors\u001b[0m\u001b[1;33m\u001b[0m\u001b[0m\n\u001b[1;32m----> 4\u001b[1;33m \u001b[0mB\u001b[0m \u001b[1;33m=\u001b[0m \u001b[0mnp\u001b[0m\u001b[1;33m.\u001b[0m\u001b[0mzeros\u001b[0m\u001b[1;33m(\u001b[0m\u001b[1;33m(\u001b[0m\u001b[1;36m159602\u001b[0m\u001b[1;33m,\u001b[0m\u001b[1;36m358833\u001b[0m\u001b[1;33m)\u001b[0m\u001b[1;33m)\u001b[0m\u001b[1;33m\u001b[0m\u001b[0m\n\u001b[0m\u001b[0;32m      5\u001b[0m \u001b[0mitem_factors\u001b[0m\u001b[1;33m.\u001b[0m\u001b[0mshape\u001b[0m \u001b[1;33m=\u001b[0m \u001b[1;33m(\u001b[0m\u001b[1;36m159602\u001b[0m\u001b[1;33m,\u001b[0m \u001b[1;36m40\u001b[0m\u001b[1;33m,\u001b[0m \u001b[1;36m100\u001b[0m\u001b[1;33m)\u001b[0m\u001b[1;33m\u001b[0m\u001b[0m\n\u001b[0;32m      6\u001b[0m \u001b[0muser_factors\u001b[0m\u001b[1;33m.\u001b[0m\u001b[0mshape\u001b[0m \u001b[1;33m=\u001b[0m \u001b[1;33m(\u001b[0m\u001b[1;36m358833\u001b[0m\u001b[1;33m,\u001b[0m \u001b[1;36m40\u001b[0m\u001b[1;33m,\u001b[0m \u001b[1;36m100\u001b[0m\u001b[1;33m)\u001b[0m\u001b[1;33m\u001b[0m\u001b[0m\n",
      "\u001b[1;31mMemoryError\u001b[0m: "
     ]
    }
   ],
   "source": [
    "# https://github.com/numpy/numpy/issues/4062\n",
    "\n",
    "item_factors, user_factors = model.item_factors, model.user_factors\n",
    "B = np.zeros((159602,358833))\n",
    "item_factors.shape = (159602, 40, 100)\n",
    "user_factors.shape = (358833, 40, 100)\n",
    "for I, U in np.rollaxis(item_factors,2), np.rollaxis(user_factors, 2):\n",
    "    B += np.dot(I, U.T)"
   ]
  },
  {
   "cell_type": "markdown",
   "metadata": {},
   "source": [
    "# Old stuff"
   ]
  },
  {
   "cell_type": "code",
   "execution_count": null,
   "metadata": {},
   "outputs": [],
   "source": [
    "def prune(data, user_col, item_col, user_min, item_min):\n",
    "    n_users = data.loc[:, user_col].drop_duplicates().count()\n",
    "    n_artists = data.loc[:, item_col].drop_duplicates().count()\n",
    "    sparsity =  (1 - float(data.shape[0]) / float(n_users*n_artists)) * 100\n",
    "    print(\"Number of Users: {}\".format(n_users))\n",
    "    print(\"Number of Artists: {}\".format(n_artists))\n",
    "    print(\"Sparsity: {:.5} %\".format(str(sparsity)))\n",
    "    \n",
    "    done = False\n",
    "    while not done:\n",
    "        starting_shape = data.shape[0]\n",
    "        # Creating a new column with number of plays of distinct artists for this user\n",
    "        data[\"distinct_user_play\"] = data.loc[:,[user_col, item_col]].groupby(user_col).transform(\"count\")\n",
    "        data = data[data[\"distinct_user_play\"] > user_min]\n",
    "        data[\"distinct_artist_play\"] = data.loc[:,[user_col, item_col]].groupby(item_col).transform(\"count\")\n",
    "        data = data[data[\"distinct_artist_play\"] > item_min]\n",
    "        data.drop(columns=[\"distinct_user_play\", \"distinct_artist_play\"])\n",
    "        ending_shape = data.shape[0]\n",
    "        if starting_shape == ending_shape:\n",
    "            done = True\n",
    "    \n",
    "    n_users = data.loc[:, user_col].drop_duplicates().count()\n",
    "    n_artists = data.loc[:, item_col].drop_duplicates().count()\n",
    "    sparsity =  (1 - float(data.shape[0]) / float(n_users*n_artists)) * 100\n",
    "    print(\"Number of Users: {}\".format(n_users))\n",
    "    print(\"Number of Artists: {}\".format(n_artists))\n",
    "    print(\"Sparsity: {:.5} %\".format(str(sparsity)))\n",
    "    \n",
    "    return data"
   ]
  },
  {
   "cell_type": "code",
   "execution_count": null,
   "metadata": {},
   "outputs": [],
   "source": []
  }
 ],
 "metadata": {
  "kernelspec": {
   "display_name": "Python [conda env:implicit]",
   "language": "python",
   "name": "conda-env-implicit-py"
  },
  "language_info": {
   "codemirror_mode": {
    "name": "ipython",
    "version": 3
   },
   "file_extension": ".py",
   "mimetype": "text/x-python",
   "name": "python",
   "nbconvert_exporter": "python",
   "pygments_lexer": "ipython3",
   "version": "3.6.5"
  }
 },
 "nbformat": 4,
 "nbformat_minor": 2
}
